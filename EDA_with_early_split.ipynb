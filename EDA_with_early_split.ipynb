{
 "cells": [
  {
   "cell_type": "code",
   "execution_count": 114,
   "metadata": {},
   "outputs": [],
   "source": [
    "# Base\n",
    "import pandas as pd\n",
    "import numpy as np\n",
    "import warnings\n",
    "warnings.filterwarnings('ignore')\n",
    "\n",
    "# EDA\n",
    "import missingno as msno\n",
    "\n",
    "# Visualisation\n",
    "import matplotlib.pyplot as plt\n",
    "\n",
    "\n",
    "from matplotlib.colors import ListedColormap\n",
    "import seaborn as sns\n",
    "from sklearn.tree import plot_tree\n",
    "\n",
    "# Text-Based Analyses\n",
    "import gensim.downloader\n",
    "from gensim.models import KeyedVectors\n",
    "import nltk\n",
    "from nltk.corpus import stopwords\n",
    "from nltk.stem import PorterStemmer\n",
    "import re\n",
    "from sklearn.metrics.pairwise import cosine_similarity\n",
    "\n",
    "# One-hot Encoding\n",
    "from sklearn.preprocessing import OneHotEncoder\n",
    "from sklearn.compose import ColumnTransformer\n",
    "\n",
    "# Voting\n",
    "from sklearn.ensemble import VotingClassifier\n",
    "from sklearn.ensemble import StackingClassifier\n",
    "from xgboost import XGBClassifier\n",
    "\n",
    "# Classifiers\n",
    "from sklearn.tree import DecisionTreeClassifier                                     \n",
    "from sklearn.ensemble import RandomForestClassifier\n",
    "from sklearn.model_selection import GridSearchCV, RandomizedSearchCV                \n",
    "from sklearn.linear_model import SGDClassifier                                      \n",
    "from sklearn.neighbors import KNeighborsClassifier\n",
    "from sklearn.neighbors import NearestNeighbors                                      \n",
    "from sklearn.linear_model import LogisticRegression\n",
    "\n",
    "from sklearn.svm import SVC                                                        \n",
    "from sklearn.ensemble import AdaBoostClassifier \n",
    "\n",
    "# Regressors\n",
    "from sklearn.linear_model import Ridge\n",
    "from sklearn.linear_model import Lasso\n",
    "from sklearn.preprocessing import PolynomialFeatures\n",
    "from sklearn.linear_model import ElasticNet\n",
    "from sklearn.linear_model import LinearRegression\n",
    "from sklearn.linear_model import SGDRegressor \n",
    "from sklearn.tree import DecisionTreeRegressor\n",
    "from sklearn.ensemble import RandomForestRegressor\n",
    "\n",
    "# Clustering\n",
    "from sklearn.cluster import KMeans, DBSCAN, AgglomerativeClustering\n",
    "import scipy.cluster.hierarchy as sch  \n",
    "\n",
    "# Scalers and Transformers\n",
    "from sklearn.preprocessing import StandardScaler, MinMaxScaler, RobustScaler\n",
    "from sklearn.preprocessing import FunctionTransformer\n",
    "from sklearn.pipeline import Pipeline                                               \n",
    "from sklearn.compose import ColumnTransformer\n",
    "from sklearn.preprocessing import OneHotEncoder, KBinsDiscretizer\n",
    "from sklearn.impute import SimpleImputer\n",
    "from sklearn.base import BaseEstimator, TransformerMixin\n",
    "\n",
    "# Metrics\n",
    "from sklearn.metrics import classification_report, confusion_matrix, accuracy_score, recall_score, precision_score, roc_curve, roc_auc_score, f1_score\n",
    "from sklearn.metrics import mean_squared_error, r2_score, mean_absolute_error\n",
    "from sklearn.model_selection import train_test_split\n",
    "from scipy.stats import zscore, boxcox\n",
    "from sklearn.model_selection import cross_val_score  "
   ]
  },
  {
   "cell_type": "code",
   "execution_count": 115,
   "metadata": {},
   "outputs": [],
   "source": [
    "# Set Seed\n",
    "SEED = 50"
   ]
  },
  {
   "cell_type": "code",
   "execution_count": 116,
   "metadata": {},
   "outputs": [
    {
     "data": {
      "text/html": [
       "<div>\n",
       "<style scoped>\n",
       "    .dataframe tbody tr th:only-of-type {\n",
       "        vertical-align: middle;\n",
       "    }\n",
       "\n",
       "    .dataframe tbody tr th {\n",
       "        vertical-align: top;\n",
       "    }\n",
       "\n",
       "    .dataframe thead th {\n",
       "        text-align: right;\n",
       "    }\n",
       "</style>\n",
       "<table border=\"1\" class=\"dataframe\">\n",
       "  <thead>\n",
       "    <tr style=\"text-align: right;\">\n",
       "      <th></th>\n",
       "      <th>ID</th>\n",
       "      <th>Name</th>\n",
       "      <th>Category</th>\n",
       "      <th>Subcategory</th>\n",
       "      <th>Country</th>\n",
       "      <th>Launched</th>\n",
       "      <th>Deadline</th>\n",
       "      <th>Goal</th>\n",
       "      <th>Pledged</th>\n",
       "      <th>Backers</th>\n",
       "      <th>State</th>\n",
       "    </tr>\n",
       "  </thead>\n",
       "  <tbody>\n",
       "    <tr>\n",
       "      <th>0</th>\n",
       "      <td>1860890148</td>\n",
       "      <td>Grace Jones Does Not Give A F$#% T-Shirt (limi...</td>\n",
       "      <td>Fashion</td>\n",
       "      <td>Fashion</td>\n",
       "      <td>United States</td>\n",
       "      <td>2009-04-21 21:02:48</td>\n",
       "      <td>2009-05-31</td>\n",
       "      <td>1000</td>\n",
       "      <td>625</td>\n",
       "      <td>30</td>\n",
       "      <td>Failed</td>\n",
       "    </tr>\n",
       "    <tr>\n",
       "      <th>1</th>\n",
       "      <td>709707365</td>\n",
       "      <td>CRYSTAL ANTLERS UNTITLED MOVIE</td>\n",
       "      <td>Film &amp; Video</td>\n",
       "      <td>Shorts</td>\n",
       "      <td>United States</td>\n",
       "      <td>2009-04-23 00:07:53</td>\n",
       "      <td>2009-07-20</td>\n",
       "      <td>80000</td>\n",
       "      <td>22</td>\n",
       "      <td>3</td>\n",
       "      <td>Failed</td>\n",
       "    </tr>\n",
       "  </tbody>\n",
       "</table>\n",
       "</div>"
      ],
      "text/plain": [
       "           ID                                               Name   \n",
       "0  1860890148  Grace Jones Does Not Give A F$#% T-Shirt (limi...  \\\n",
       "1   709707365                     CRYSTAL ANTLERS UNTITLED MOVIE   \n",
       "\n",
       "       Category Subcategory        Country             Launched    Deadline   \n",
       "0       Fashion     Fashion  United States  2009-04-21 21:02:48  2009-05-31  \\\n",
       "1  Film & Video      Shorts  United States  2009-04-23 00:07:53  2009-07-20   \n",
       "\n",
       "    Goal  Pledged  Backers   State  \n",
       "0   1000      625       30  Failed  \n",
       "1  80000       22        3  Failed  "
      ]
     },
     "execution_count": 116,
     "metadata": {},
     "output_type": "execute_result"
    }
   ],
   "source": [
    "# Import data\n",
    "path = \"data/kickstarter_projects.csv\"\n",
    "\n",
    "df_kickstarter = pd.read_csv(path)\n",
    "df_kickstarter.head(2)"
   ]
  },
  {
   "cell_type": "code",
   "execution_count": 117,
   "metadata": {},
   "outputs": [],
   "source": [
    "# Converting dates to datetime objects\n",
    "df_kickstarter['Launched'] = pd.to_datetime(df_kickstarter['Launched'], format='%Y-%m-%d %H:%M:%S')\n",
    "df_kickstarter['Deadline'] = pd.to_datetime(df_kickstarter['Deadline'], format='%Y-%m-%d')"
   ]
  },
  {
   "cell_type": "code",
   "execution_count": 16,
   "metadata": {},
   "outputs": [
    {
     "data": {
      "text/html": [
       "<div>\n",
       "<style scoped>\n",
       "    .dataframe tbody tr th:only-of-type {\n",
       "        vertical-align: middle;\n",
       "    }\n",
       "\n",
       "    .dataframe tbody tr th {\n",
       "        vertical-align: top;\n",
       "    }\n",
       "\n",
       "    .dataframe thead th {\n",
       "        text-align: right;\n",
       "    }\n",
       "</style>\n",
       "<table border=\"1\" class=\"dataframe\">\n",
       "  <thead>\n",
       "    <tr style=\"text-align: right;\">\n",
       "      <th></th>\n",
       "      <th>ID</th>\n",
       "      <th>Name</th>\n",
       "      <th>Category</th>\n",
       "      <th>Subcategory</th>\n",
       "      <th>Country</th>\n",
       "      <th>Launched</th>\n",
       "      <th>Deadline</th>\n",
       "      <th>Goal</th>\n",
       "      <th>Pledged</th>\n",
       "      <th>Backers</th>\n",
       "      <th>State</th>\n",
       "    </tr>\n",
       "  </thead>\n",
       "  <tbody>\n",
       "    <tr>\n",
       "      <th>0</th>\n",
       "      <td>1860890148</td>\n",
       "      <td>Grace Jones Does Not Give A F$#% T-Shirt (limi...</td>\n",
       "      <td>Fashion</td>\n",
       "      <td>Fashion</td>\n",
       "      <td>United States</td>\n",
       "      <td>2009-04-21 21:02:48</td>\n",
       "      <td>2009-05-31</td>\n",
       "      <td>1000</td>\n",
       "      <td>625</td>\n",
       "      <td>30</td>\n",
       "      <td>Failed</td>\n",
       "    </tr>\n",
       "    <tr>\n",
       "      <th>1</th>\n",
       "      <td>709707365</td>\n",
       "      <td>CRYSTAL ANTLERS UNTITLED MOVIE</td>\n",
       "      <td>Film &amp; Video</td>\n",
       "      <td>Shorts</td>\n",
       "      <td>United States</td>\n",
       "      <td>2009-04-23 00:07:53</td>\n",
       "      <td>2009-07-20</td>\n",
       "      <td>80000</td>\n",
       "      <td>22</td>\n",
       "      <td>3</td>\n",
       "      <td>Failed</td>\n",
       "    </tr>\n",
       "  </tbody>\n",
       "</table>\n",
       "</div>"
      ],
      "text/plain": [
       "           ID                                               Name   \n",
       "0  1860890148  Grace Jones Does Not Give A F$#% T-Shirt (limi...  \\\n",
       "1   709707365                     CRYSTAL ANTLERS UNTITLED MOVIE   \n",
       "\n",
       "       Category Subcategory        Country            Launched   Deadline   \n",
       "0       Fashion     Fashion  United States 2009-04-21 21:02:48 2009-05-31  \\\n",
       "1  Film & Video      Shorts  United States 2009-04-23 00:07:53 2009-07-20   \n",
       "\n",
       "    Goal  Pledged  Backers   State  \n",
       "0   1000      625       30  Failed  \n",
       "1  80000       22        3  Failed  "
      ]
     },
     "execution_count": 16,
     "metadata": {},
     "output_type": "execute_result"
    }
   ],
   "source": [
    "df_kickstarter.head(2)"
   ]
  },
  {
   "cell_type": "code",
   "execution_count": 118,
   "metadata": {},
   "outputs": [
    {
     "data": {
      "text/html": [
       "<div>\n",
       "<style scoped>\n",
       "    .dataframe tbody tr th:only-of-type {\n",
       "        vertical-align: middle;\n",
       "    }\n",
       "\n",
       "    .dataframe tbody tr th {\n",
       "        vertical-align: top;\n",
       "    }\n",
       "\n",
       "    .dataframe thead th {\n",
       "        text-align: right;\n",
       "    }\n",
       "</style>\n",
       "<table border=\"1\" class=\"dataframe\">\n",
       "  <thead>\n",
       "    <tr style=\"text-align: right;\">\n",
       "      <th></th>\n",
       "      <th>ID</th>\n",
       "      <th>Name</th>\n",
       "      <th>Category</th>\n",
       "      <th>Subcategory</th>\n",
       "      <th>Country</th>\n",
       "      <th>Launched</th>\n",
       "      <th>Deadline</th>\n",
       "      <th>Goal</th>\n",
       "      <th>Pledged</th>\n",
       "      <th>Backers</th>\n",
       "      <th>State</th>\n",
       "      <th>State_num</th>\n",
       "    </tr>\n",
       "  </thead>\n",
       "  <tbody>\n",
       "    <tr>\n",
       "      <th>0</th>\n",
       "      <td>1860890148</td>\n",
       "      <td>Grace Jones Does Not Give A F$#% T-Shirt (limi...</td>\n",
       "      <td>Fashion</td>\n",
       "      <td>Fashion</td>\n",
       "      <td>United States</td>\n",
       "      <td>2009-04-21 21:02:48</td>\n",
       "      <td>2009-05-31</td>\n",
       "      <td>1000</td>\n",
       "      <td>625</td>\n",
       "      <td>30</td>\n",
       "      <td>Failed</td>\n",
       "      <td>0</td>\n",
       "    </tr>\n",
       "    <tr>\n",
       "      <th>1</th>\n",
       "      <td>709707365</td>\n",
       "      <td>CRYSTAL ANTLERS UNTITLED MOVIE</td>\n",
       "      <td>Film &amp; Video</td>\n",
       "      <td>Shorts</td>\n",
       "      <td>United States</td>\n",
       "      <td>2009-04-23 00:07:53</td>\n",
       "      <td>2009-07-20</td>\n",
       "      <td>80000</td>\n",
       "      <td>22</td>\n",
       "      <td>3</td>\n",
       "      <td>Failed</td>\n",
       "      <td>0</td>\n",
       "    </tr>\n",
       "    <tr>\n",
       "      <th>2</th>\n",
       "      <td>1703704063</td>\n",
       "      <td>drawing for dollars</td>\n",
       "      <td>Art</td>\n",
       "      <td>Illustration</td>\n",
       "      <td>United States</td>\n",
       "      <td>2009-04-24 21:52:03</td>\n",
       "      <td>2009-05-03</td>\n",
       "      <td>20</td>\n",
       "      <td>35</td>\n",
       "      <td>3</td>\n",
       "      <td>Successful</td>\n",
       "      <td>1</td>\n",
       "    </tr>\n",
       "    <tr>\n",
       "      <th>3</th>\n",
       "      <td>727286</td>\n",
       "      <td>Offline Wikipedia iPhone app</td>\n",
       "      <td>Technology</td>\n",
       "      <td>Software</td>\n",
       "      <td>United States</td>\n",
       "      <td>2009-04-25 17:36:21</td>\n",
       "      <td>2009-07-14</td>\n",
       "      <td>99</td>\n",
       "      <td>145</td>\n",
       "      <td>25</td>\n",
       "      <td>Successful</td>\n",
       "      <td>1</td>\n",
       "    </tr>\n",
       "    <tr>\n",
       "      <th>4</th>\n",
       "      <td>1622952265</td>\n",
       "      <td>Pantshirts</td>\n",
       "      <td>Fashion</td>\n",
       "      <td>Fashion</td>\n",
       "      <td>United States</td>\n",
       "      <td>2009-04-27 14:10:39</td>\n",
       "      <td>2009-05-26</td>\n",
       "      <td>1900</td>\n",
       "      <td>387</td>\n",
       "      <td>10</td>\n",
       "      <td>Failed</td>\n",
       "      <td>0</td>\n",
       "    </tr>\n",
       "    <tr>\n",
       "      <th>...</th>\n",
       "      <td>...</td>\n",
       "      <td>...</td>\n",
       "      <td>...</td>\n",
       "      <td>...</td>\n",
       "      <td>...</td>\n",
       "      <td>...</td>\n",
       "      <td>...</td>\n",
       "      <td>...</td>\n",
       "      <td>...</td>\n",
       "      <td>...</td>\n",
       "      <td>...</td>\n",
       "      <td>...</td>\n",
       "    </tr>\n",
       "    <tr>\n",
       "      <th>374310</th>\n",
       "      <td>749399445</td>\n",
       "      <td>Propeller Spring 2.0</td>\n",
       "      <td>Games</td>\n",
       "      <td>Games</td>\n",
       "      <td>Austria</td>\n",
       "      <td>2017-12-23 10:14:21</td>\n",
       "      <td>2017-12-26</td>\n",
       "      <td>36</td>\n",
       "      <td>270</td>\n",
       "      <td>36</td>\n",
       "      <td>Successful</td>\n",
       "      <td>1</td>\n",
       "    </tr>\n",
       "    <tr>\n",
       "      <th>374400</th>\n",
       "      <td>1223058036</td>\n",
       "      <td>The Cowboy and The Spaceman: Android Collective+</td>\n",
       "      <td>Games</td>\n",
       "      <td>Tabletop Games</td>\n",
       "      <td>United Kingdom</td>\n",
       "      <td>2017-12-26 13:00:24</td>\n",
       "      <td>2017-12-31</td>\n",
       "      <td>271</td>\n",
       "      <td>545</td>\n",
       "      <td>25</td>\n",
       "      <td>Successful</td>\n",
       "      <td>1</td>\n",
       "    </tr>\n",
       "    <tr>\n",
       "      <th>374458</th>\n",
       "      <td>1411606124</td>\n",
       "      <td>The CHAMPS Are Here!</td>\n",
       "      <td>Fashion</td>\n",
       "      <td>Apparel</td>\n",
       "      <td>United States</td>\n",
       "      <td>2017-12-27 03:52:38</td>\n",
       "      <td>2017-12-31</td>\n",
       "      <td>200</td>\n",
       "      <td>202</td>\n",
       "      <td>6</td>\n",
       "      <td>Successful</td>\n",
       "      <td>1</td>\n",
       "    </tr>\n",
       "    <tr>\n",
       "      <th>374530</th>\n",
       "      <td>156799983</td>\n",
       "      <td>Kill Them All!</td>\n",
       "      <td>Games</td>\n",
       "      <td>Tabletop Games</td>\n",
       "      <td>United States</td>\n",
       "      <td>2017-12-28 01:48:58</td>\n",
       "      <td>2017-12-30</td>\n",
       "      <td>250</td>\n",
       "      <td>265</td>\n",
       "      <td>7</td>\n",
       "      <td>Successful</td>\n",
       "      <td>1</td>\n",
       "    </tr>\n",
       "    <tr>\n",
       "      <th>374605</th>\n",
       "      <td>801423615</td>\n",
       "      <td>Collaboration with Snoop Dogg</td>\n",
       "      <td>Music</td>\n",
       "      <td>Hip-Hop</td>\n",
       "      <td>Australia</td>\n",
       "      <td>2017-12-29 03:22:32</td>\n",
       "      <td>2018-01-01</td>\n",
       "      <td>392</td>\n",
       "      <td>514</td>\n",
       "      <td>6</td>\n",
       "      <td>Successful</td>\n",
       "      <td>1</td>\n",
       "    </tr>\n",
       "  </tbody>\n",
       "</table>\n",
       "<p>331462 rows × 12 columns</p>\n",
       "</div>"
      ],
      "text/plain": [
       "                ID                                               Name   \n",
       "0       1860890148  Grace Jones Does Not Give A F$#% T-Shirt (limi...  \\\n",
       "1        709707365                     CRYSTAL ANTLERS UNTITLED MOVIE   \n",
       "2       1703704063                                drawing for dollars   \n",
       "3           727286                       Offline Wikipedia iPhone app   \n",
       "4       1622952265                                         Pantshirts   \n",
       "...            ...                                                ...   \n",
       "374310   749399445                               Propeller Spring 2.0   \n",
       "374400  1223058036   The Cowboy and The Spaceman: Android Collective+   \n",
       "374458  1411606124                               The CHAMPS Are Here!   \n",
       "374530   156799983                                     Kill Them All!   \n",
       "374605   801423615                      Collaboration with Snoop Dogg   \n",
       "\n",
       "            Category     Subcategory         Country            Launched   \n",
       "0            Fashion         Fashion   United States 2009-04-21 21:02:48  \\\n",
       "1       Film & Video          Shorts   United States 2009-04-23 00:07:53   \n",
       "2                Art    Illustration   United States 2009-04-24 21:52:03   \n",
       "3         Technology        Software   United States 2009-04-25 17:36:21   \n",
       "4            Fashion         Fashion   United States 2009-04-27 14:10:39   \n",
       "...              ...             ...             ...                 ...   \n",
       "374310         Games           Games         Austria 2017-12-23 10:14:21   \n",
       "374400         Games  Tabletop Games  United Kingdom 2017-12-26 13:00:24   \n",
       "374458       Fashion         Apparel   United States 2017-12-27 03:52:38   \n",
       "374530         Games  Tabletop Games   United States 2017-12-28 01:48:58   \n",
       "374605         Music         Hip-Hop       Australia 2017-12-29 03:22:32   \n",
       "\n",
       "         Deadline   Goal  Pledged  Backers       State  State_num  \n",
       "0      2009-05-31   1000      625       30      Failed          0  \n",
       "1      2009-07-20  80000       22        3      Failed          0  \n",
       "2      2009-05-03     20       35        3  Successful          1  \n",
       "3      2009-07-14     99      145       25  Successful          1  \n",
       "4      2009-05-26   1900      387       10      Failed          0  \n",
       "...           ...    ...      ...      ...         ...        ...  \n",
       "374310 2017-12-26     36      270       36  Successful          1  \n",
       "374400 2017-12-31    271      545       25  Successful          1  \n",
       "374458 2017-12-31    200      202        6  Successful          1  \n",
       "374530 2017-12-30    250      265        7  Successful          1  \n",
       "374605 2018-01-01    392      514        6  Successful          1  \n",
       "\n",
       "[331462 rows x 12 columns]"
      ]
     },
     "execution_count": 118,
     "metadata": {},
     "output_type": "execute_result"
    }
   ],
   "source": [
    "df_kickstarter_filtered = df_kickstarter[df_kickstarter['State'].isin(['Successful', 'Failed'])]\n",
    "df_kickstarter_filtered['State_num'] = df_kickstarter_filtered['State'].map({'Successful': 1, 'Failed': 0})\n",
    "df_kickstarter_filtered"
   ]
  },
  {
   "cell_type": "code",
   "execution_count": 119,
   "metadata": {},
   "outputs": [],
   "source": [
    "# Temporal patterns\n",
    "df_kickstarter_filtered['ProjectDuration'] = (df_kickstarter_filtered['Deadline'] - df_kickstarter['Launched']).dt.days\n",
    "df_kickstarter_filtered['LaunchYear'] = df_kickstarter_filtered['Launched'].dt.year\n",
    "df_kickstarter_filtered['LaunchMonth'] = df_kickstarter_filtered['Launched'].dt.month\n",
    "df_kickstarter_filtered['LaunchDay'] = df_kickstarter_filtered['Launched'].dt.day\n",
    "df_kickstarter_filtered['DayOfWeek'] = df_kickstarter_filtered['Launched'].dt.dayofweek #0=Monday, 6=Sunday"
   ]
  },
  {
   "cell_type": "code",
   "execution_count": 19,
   "metadata": {},
   "outputs": [
    {
     "data": {
      "text/html": [
       "<div>\n",
       "<style scoped>\n",
       "    .dataframe tbody tr th:only-of-type {\n",
       "        vertical-align: middle;\n",
       "    }\n",
       "\n",
       "    .dataframe tbody tr th {\n",
       "        vertical-align: top;\n",
       "    }\n",
       "\n",
       "    .dataframe thead th {\n",
       "        text-align: right;\n",
       "    }\n",
       "</style>\n",
       "<table border=\"1\" class=\"dataframe\">\n",
       "  <thead>\n",
       "    <tr style=\"text-align: right;\">\n",
       "      <th></th>\n",
       "      <th>ID</th>\n",
       "      <th>Name</th>\n",
       "      <th>Category</th>\n",
       "      <th>Subcategory</th>\n",
       "      <th>Country</th>\n",
       "      <th>Launched</th>\n",
       "      <th>Deadline</th>\n",
       "      <th>Goal</th>\n",
       "      <th>Pledged</th>\n",
       "      <th>Backers</th>\n",
       "      <th>State</th>\n",
       "      <th>State_num</th>\n",
       "      <th>ProjectDuration</th>\n",
       "      <th>LaunchYear</th>\n",
       "      <th>LaunchMonth</th>\n",
       "      <th>LaunchDay</th>\n",
       "      <th>DayOfWeek</th>\n",
       "    </tr>\n",
       "  </thead>\n",
       "  <tbody>\n",
       "    <tr>\n",
       "      <th>0</th>\n",
       "      <td>1860890148</td>\n",
       "      <td>Grace Jones Does Not Give A F$#% T-Shirt (limi...</td>\n",
       "      <td>Fashion</td>\n",
       "      <td>Fashion</td>\n",
       "      <td>United States</td>\n",
       "      <td>2009-04-21 21:02:48</td>\n",
       "      <td>2009-05-31</td>\n",
       "      <td>1000</td>\n",
       "      <td>625</td>\n",
       "      <td>30</td>\n",
       "      <td>Failed</td>\n",
       "      <td>0</td>\n",
       "      <td>39.0</td>\n",
       "      <td>2009</td>\n",
       "      <td>4</td>\n",
       "      <td>21</td>\n",
       "      <td>1</td>\n",
       "    </tr>\n",
       "    <tr>\n",
       "      <th>1</th>\n",
       "      <td>709707365</td>\n",
       "      <td>CRYSTAL ANTLERS UNTITLED MOVIE</td>\n",
       "      <td>Film &amp; Video</td>\n",
       "      <td>Shorts</td>\n",
       "      <td>United States</td>\n",
       "      <td>2009-04-23 00:07:53</td>\n",
       "      <td>2009-07-20</td>\n",
       "      <td>80000</td>\n",
       "      <td>22</td>\n",
       "      <td>3</td>\n",
       "      <td>Failed</td>\n",
       "      <td>0</td>\n",
       "      <td>87.0</td>\n",
       "      <td>2009</td>\n",
       "      <td>4</td>\n",
       "      <td>23</td>\n",
       "      <td>3</td>\n",
       "    </tr>\n",
       "  </tbody>\n",
       "</table>\n",
       "</div>"
      ],
      "text/plain": [
       "           ID                                               Name   \n",
       "0  1860890148  Grace Jones Does Not Give A F$#% T-Shirt (limi...  \\\n",
       "1   709707365                     CRYSTAL ANTLERS UNTITLED MOVIE   \n",
       "\n",
       "       Category Subcategory        Country            Launched   Deadline   \n",
       "0       Fashion     Fashion  United States 2009-04-21 21:02:48 2009-05-31  \\\n",
       "1  Film & Video      Shorts  United States 2009-04-23 00:07:53 2009-07-20   \n",
       "\n",
       "    Goal  Pledged  Backers   State  State_num  ProjectDuration  LaunchYear   \n",
       "0   1000      625       30  Failed          0             39.0        2009  \\\n",
       "1  80000       22        3  Failed          0             87.0        2009   \n",
       "\n",
       "   LaunchMonth  LaunchDay  DayOfWeek  \n",
       "0            4         21          1  \n",
       "1            4         23          3  "
      ]
     },
     "execution_count": 19,
     "metadata": {},
     "output_type": "execute_result"
    }
   ],
   "source": [
    "df_kickstarter_filtered.head(2)"
   ]
  },
  {
   "cell_type": "markdown",
   "metadata": {},
   "source": [
    "## Early Split"
   ]
  },
  {
   "cell_type": "code",
   "execution_count": 120,
   "metadata": {},
   "outputs": [],
   "source": [
    "X = df_kickstarter\n",
    "y = df_kickstarter\n",
    "\n",
    "X = df_kickstarter_filtered.drop(columns=['State_num'])  # Drop the target column to create feature matrix\n",
    "y = df_kickstarter_filtered['State_num']"
   ]
  },
  {
   "cell_type": "code",
   "execution_count": 121,
   "metadata": {},
   "outputs": [],
   "source": [
    "X_train, X_test, y_train, y_test = train_test_split(X, y, test_size=0.2, stratify=y, random_state=SEED)"
   ]
  },
  {
   "cell_type": "markdown",
   "metadata": {},
   "source": [
    "### Log Transform for Train and Test split"
   ]
  },
  {
   "cell_type": "code",
   "execution_count": 22,
   "metadata": {},
   "outputs": [
    {
     "data": {
      "image/png": "[encoded data removed]",
      "text/plain": [
       "<Figure size 1500x500 with 3 Axes>"
      ]
     },
     "metadata": {},
     "output_type": "display_data"
    }
   ],
   "source": [
    "# Plotting Histograms of numeric columns Goal, Pledged, Backers\n",
    "# WARNING: Running this takes forever\n",
    "plt.figure(figsize=(15, 5))\n",
    "\n",
    "plt.subplot(1, 3, 1)\n",
    "sns.histplot(X_train['Goal'], kde=True)\n",
    "plt.title('Distribution of Goal')\n",
    "plt.xlabel('Goal Amount')\n",
    "plt.ylabel('Frequency')\n",
    "\n",
    "plt.subplot(1, 3, 2)\n",
    "sns.histplot(X_train['Pledged'], kde=True)\n",
    "plt.title('Distribution of Pledged')\n",
    "plt.xlabel('Pledged Amount')\n",
    "plt.ylabel('Frequency')\n",
    "\n",
    "plt.subplot(1, 3, 3)\n",
    "sns.histplot(X_train['Backers'], kde=True)\n",
    "plt.title('Distribution of Backers')\n",
    "plt.xlabel('Number of Backers')\n",
    "plt.ylabel('Frequency')\n",
    "\n",
    "plt.tight_layout()\n",
    "plt.show()"
   ]
  },
  {
   "cell_type": "code",
   "execution_count": 23,
   "metadata": {},
   "outputs": [],
   "source": [
    "# Log transform the numerical columns. Handle potential errors from log(0)\n",
    "def log_transform(x):\n",
    "    return np.log1p(x)\n",
    "\n",
    "X_train['log_Goal'] = log_transform(X_train['Goal'])\n",
    "X_train['log_Pledged'] = log_transform(X_train['Pledged'])\n",
    "X_train['log_Backers'] = log_transform(X_train['Backers'])"
   ]
  },
  {
   "cell_type": "code",
   "execution_count": 25,
   "metadata": {},
   "outputs": [
    {
     "data": {
      "image/png": "[encoded data removed]",
      "text/plain": [
       "<Figure size 1500x500 with 3 Axes>"
      ]
     },
     "metadata": {},
     "output_type": "display_data"
    }
   ],
   "source": [
    "# Plotting Histograms of numeric columns Goal, Pledged, Backers\n",
    "# WARNING: Running this takes forever\n",
    "plt.figure(figsize=(15, 5))\n",
    "\n",
    "plt.subplot(1, 3, 1)\n",
    "sns.histplot(X_test['Goal'], kde=True)\n",
    "plt.title('Distribution of Goal')\n",
    "plt.xlabel('Goal Amount')\n",
    "plt.ylabel('Frequency')\n",
    "\n",
    "plt.subplot(1, 3, 2)\n",
    "sns.histplot(X_test['Pledged'], kde=True)\n",
    "plt.title('Distribution of Pledged')\n",
    "plt.xlabel('Pledged Amount')\n",
    "plt.ylabel('Frequency')\n",
    "\n",
    "plt.subplot(1, 3, 3)\n",
    "sns.histplot(X_test['Backers'], kde=True)\n",
    "plt.title('Distribution of Backers')\n",
    "plt.xlabel('Number of Backers')\n",
    "plt.ylabel('Frequency')\n",
    "\n",
    "plt.tight_layout()\n",
    "plt.show()"
   ]
  },
  {
   "cell_type": "code",
   "execution_count": 26,
   "metadata": {},
   "outputs": [],
   "source": [
    "# Log transform the numerical columns. Handle potential errors from log(0)\n",
    "def log_transform(x):\n",
    "    return np.log1p(x)\n",
    "\n",
    "X_test['log_Goal'] = log_transform(X_test['Goal'])\n",
    "X_test['log_Pledged'] = log_transform(X_test['Pledged'])\n",
    "X_test['log_Backers'] = log_transform(X_test['Backers'])"
   ]
  },
  {
   "cell_type": "code",
   "execution_count": 122,
   "metadata": {},
   "outputs": [],
   "source": [
    "# X_train.to_csv('X_train.csv', index=False)\n",
    "X_train = pd.read_csv('X_train.csv')"
   ]
  },
  {
   "cell_type": "code",
   "execution_count": 123,
   "metadata": {},
   "outputs": [],
   "source": [
    "# X_test.to_csv('X_test.csv', index=False)\n",
    "X_test = pd.read_csv('X_test.csv')"
   ]
  },
  {
   "cell_type": "markdown",
   "metadata": {},
   "source": [
    "# Continue working on X_data (X_train or X_test)"
   ]
  },
  {
   "cell_type": "code",
   "execution_count": 124,
   "metadata": {},
   "outputs": [],
   "source": [
    "X_data = X_train.copy()\n",
    "y_data = y_train.copy()\n",
    "X_data1 = X_train.copy()\n",
    "X_data2 = X_test.copy()\n"
   ]
  },
  {
   "cell_type": "code",
   "execution_count": 125,
   "metadata": {},
   "outputs": [
    {
     "data": {
      "text/html": [
       "<div>\n",
       "<style scoped>\n",
       "    .dataframe tbody tr th:only-of-type {\n",
       "        vertical-align: middle;\n",
       "    }\n",
       "\n",
       "    .dataframe tbody tr th {\n",
       "        vertical-align: top;\n",
       "    }\n",
       "\n",
       "    .dataframe thead th {\n",
       "        text-align: right;\n",
       "    }\n",
       "</style>\n",
       "<table border=\"1\" class=\"dataframe\">\n",
       "  <thead>\n",
       "    <tr style=\"text-align: right;\">\n",
       "      <th></th>\n",
       "      <th>ID</th>\n",
       "      <th>Name</th>\n",
       "      <th>Category</th>\n",
       "      <th>Subcategory</th>\n",
       "      <th>Country</th>\n",
       "      <th>Launched</th>\n",
       "      <th>Deadline</th>\n",
       "      <th>Goal</th>\n",
       "      <th>Pledged</th>\n",
       "      <th>Backers</th>\n",
       "      <th>State</th>\n",
       "      <th>ProjectDuration</th>\n",
       "      <th>LaunchYear</th>\n",
       "      <th>LaunchMonth</th>\n",
       "      <th>LaunchDay</th>\n",
       "      <th>DayOfWeek</th>\n",
       "      <th>log_Goal</th>\n",
       "      <th>log_Pledged</th>\n",
       "      <th>log_Backers</th>\n",
       "    </tr>\n",
       "  </thead>\n",
       "  <tbody>\n",
       "    <tr>\n",
       "      <th>0</th>\n",
       "      <td>2077950867</td>\n",
       "      <td>LeadaHose, The world's most versatile dog leash!</td>\n",
       "      <td>Design</td>\n",
       "      <td>Product Design</td>\n",
       "      <td>Australia</td>\n",
       "      <td>2014-08-13 01:55:07</td>\n",
       "      <td>2014-09-10</td>\n",
       "      <td>18106</td>\n",
       "      <td>14270</td>\n",
       "      <td>68</td>\n",
       "      <td>Failed</td>\n",
       "      <td>27.0</td>\n",
       "      <td>2014</td>\n",
       "      <td>8</td>\n",
       "      <td>13</td>\n",
       "      <td>2</td>\n",
       "      <td>9.804054</td>\n",
       "      <td>9.565985</td>\n",
       "      <td>4.234107</td>\n",
       "    </tr>\n",
       "    <tr>\n",
       "      <th>1</th>\n",
       "      <td>217179753</td>\n",
       "      <td>The Stairs</td>\n",
       "      <td>Film &amp; Video</td>\n",
       "      <td>Animation</td>\n",
       "      <td>United States</td>\n",
       "      <td>2012-06-16 23:05:26</td>\n",
       "      <td>2012-07-16</td>\n",
       "      <td>3800</td>\n",
       "      <td>125</td>\n",
       "      <td>2</td>\n",
       "      <td>Failed</td>\n",
       "      <td>29.0</td>\n",
       "      <td>2012</td>\n",
       "      <td>6</td>\n",
       "      <td>16</td>\n",
       "      <td>5</td>\n",
       "      <td>8.243019</td>\n",
       "      <td>4.836282</td>\n",
       "      <td>1.098612</td>\n",
       "    </tr>\n",
       "  </tbody>\n",
       "</table>\n",
       "</div>"
      ],
      "text/plain": [
       "           ID                                              Name      Category   \n",
       "0  2077950867  LeadaHose, The world's most versatile dog leash!        Design  \\\n",
       "1   217179753                                        The Stairs  Film & Video   \n",
       "\n",
       "      Subcategory        Country             Launched    Deadline   Goal   \n",
       "0  Product Design      Australia  2014-08-13 01:55:07  2014-09-10  18106  \\\n",
       "1       Animation  United States  2012-06-16 23:05:26  2012-07-16   3800   \n",
       "\n",
       "   Pledged  Backers   State  ProjectDuration  LaunchYear  LaunchMonth   \n",
       "0    14270       68  Failed             27.0        2014            8  \\\n",
       "1      125        2  Failed             29.0        2012            6   \n",
       "\n",
       "   LaunchDay  DayOfWeek  log_Goal  log_Pledged  log_Backers  \n",
       "0         13          2  9.804054     9.565985     4.234107  \n",
       "1         16          5  8.243019     4.836282     1.098612  "
      ]
     },
     "execution_count": 125,
     "metadata": {},
     "output_type": "execute_result"
    }
   ],
   "source": [
    "X_data.head(2)"
   ]
  },
  {
   "cell_type": "code",
   "execution_count": 126,
   "metadata": {},
   "outputs": [],
   "source": [
    "# Percentage funded, handle 0 cases\n",
    "def calculate_percentage_funded(row):\n",
    "    if row['Goal'] == 0:\n",
    "        if row['Pledged'] > 0:\n",
    "            return 100  # 100% if Goal is 0 and Pledged > 0\n",
    "        else:\n",
    "            return 0    # 0% if Goal and Pledged are 0\n",
    "    else:\n",
    "        return (row['Pledged'] / row['Goal']) * 100"
   ]
  },
  {
   "cell_type": "code",
   "execution_count": 127,
   "metadata": {},
   "outputs": [],
   "source": [
    "# Apply function\n",
    "X_data['PercentageFunded'] = X_data.apply(calculate_percentage_funded, axis=1)"
   ]
  },
  {
   "cell_type": "code",
   "execution_count": 128,
   "metadata": {},
   "outputs": [],
   "source": [
    "# Backers per Dollar pledged, handle 0 cases\n",
    "def calculate_backers_per_dollar(row):\n",
    "    if row['Pledged'] == 0:\n",
    "        return 0 #Handle division by zero\n",
    "    else:\n",
    "        return row['Backers'] / row['Pledged']"
   ]
  },
  {
   "cell_type": "code",
   "execution_count": 129,
   "metadata": {},
   "outputs": [],
   "source": [
    "# Apply function\n",
    "X_data['BackersPerDollar'] = X_data.apply(calculate_backers_per_dollar, axis=1)"
   ]
  },
  {
   "cell_type": "code",
   "execution_count": 130,
   "metadata": {},
   "outputs": [
    {
     "name": "stdout",
     "output_type": "stream",
     "text": [
      "    Goal  Pledged  Backers  PercentageFunded  BackersPerDollar\n",
      "0  18106    14270       68         78.813653          0.004765\n",
      "1   3800      125        2          3.289474          0.016000\n",
      "2   4551        0        0          0.000000          0.000000\n",
      "3   3000   289108     4978       9636.933333          0.017218\n",
      "4  25000    32119      391        128.476000          0.012173\n"
     ]
    }
   ],
   "source": [
    "# Check new features\n",
    "print(X_data[['Goal', 'Pledged', 'Backers', 'PercentageFunded', 'BackersPerDollar']].head())"
   ]
  },
  {
   "cell_type": "code",
   "execution_count": 131,
   "metadata": {},
   "outputs": [],
   "source": [
    "column_list = X_data.columns.tolist()"
   ]
  },
  {
   "cell_type": "code",
   "execution_count": 132,
   "metadata": {},
   "outputs": [],
   "source": [
    "X_data['State_num'] = X_data['State'].map({'Successful': 1, 'Failed': 0}) # Adding state_num again for statistics"
   ]
  },
  {
   "cell_type": "code",
   "execution_count": 133,
   "metadata": {},
   "outputs": [
    {
     "name": "stdout",
     "output_type": "stream",
     "text": [
      "                  log_Pledged  log_Goal  log_Backers  ProjectDuration   \n",
      "log_Pledged          1.000000  0.139972     0.930996        -0.030821  \\\n",
      "log_Goal             0.139972  1.000000     0.125866         0.185907   \n",
      "log_Backers          0.930996  0.125866     1.000000        -0.047110   \n",
      "ProjectDuration     -0.030821  0.185907    -0.047110         1.000000   \n",
      "PercentageFunded     0.014007 -0.043420     0.019769         0.003665   \n",
      "BackersPerDollar    -0.341179 -0.015454    -0.224994         0.009156   \n",
      "State_num            0.654402 -0.223272     0.704015        -0.117189   \n",
      "\n",
      "                  PercentageFunded  BackersPerDollar  State_num  \n",
      "log_Pledged               0.014007         -0.341179   0.654402  \n",
      "log_Goal                 -0.043420         -0.015454  -0.223272  \n",
      "log_Backers               0.019769         -0.224994   0.704015  \n",
      "ProjectDuration           0.003665          0.009156  -0.117189  \n",
      "PercentageFunded          1.000000         -0.002227   0.014490  \n",
      "BackersPerDollar         -0.002227          1.000000  -0.191975  \n",
      "State_num                 0.014490         -0.191975   1.000000  \n",
      "-------------------------------------------------------------------\n",
      "log_Pledged         0.654402\n",
      "log_Goal           -0.223272\n",
      "log_Backers         0.704015\n",
      "ProjectDuration    -0.117189\n",
      "PercentageFunded    0.014490\n",
      "BackersPerDollar   -0.191975\n",
      "State_num           1.000000\n",
      "Name: State_num, dtype: float64\n"
     ]
    }
   ],
   "source": [
    "# Assuming 'y' is the target column and df contains the features\n",
    "num_col_stats = ['log_Pledged', 'log_Goal', 'log_Backers', 'ProjectDuration', 'PercentageFunded', 'BackersPerDollar', 'State_num']\n",
    "X_data_num_df = X_data[num_col_stats]\n",
    "correlation_matrix = X_data_num_df.corr()  # Compute correlation matrix for all columns\n",
    "correlation_with_y = correlation_matrix['State_num']  # Get the correlation with target 'y'\n",
    "\n",
    "# Print the correlation with the target variable 'y'\n",
    "print(correlation_matrix)\n",
    "print('-------------------------------------------------------------------')\n",
    "print(correlation_with_y)"
   ]
  },
  {
   "cell_type": "code",
   "execution_count": null,
   "metadata": {},
   "outputs": [],
   "source": []
  },
  {
   "cell_type": "code",
   "execution_count": null,
   "metadata": {},
   "outputs": [
    {
     "data": {
      "text/html": [
       "<div>\n",
       "<style scoped>\n",
       "    .dataframe tbody tr th:only-of-type {\n",
       "        vertical-align: middle;\n",
       "    }\n",
       "\n",
       "    .dataframe tbody tr th {\n",
       "        vertical-align: top;\n",
       "    }\n",
       "\n",
       "    .dataframe thead th {\n",
       "        text-align: right;\n",
       "    }\n",
       "</style>\n",
       "<table border=\"1\" class=\"dataframe\">\n",
       "  <thead>\n",
       "    <tr style=\"text-align: right;\">\n",
       "      <th></th>\n",
       "      <th>Category</th>\n",
       "      <th>Country</th>\n",
       "      <th>log_Goal</th>\n",
       "      <th>log_Backers</th>\n",
       "      <th>ProjectDuration</th>\n",
       "      <th>LaunchYear</th>\n",
       "      <th>LaunchMonth</th>\n",
       "      <th>DayOfWeek</th>\n",
       "    </tr>\n",
       "  </thead>\n",
       "  <tbody>\n",
       "    <tr>\n",
       "      <th>0</th>\n",
       "      <td>Design</td>\n",
       "      <td>Australia</td>\n",
       "      <td>9.804054</td>\n",
       "      <td>4.234107</td>\n",
       "      <td>27.0</td>\n",
       "      <td>2014</td>\n",
       "      <td>8</td>\n",
       "      <td>2</td>\n",
       "    </tr>\n",
       "    <tr>\n",
       "      <th>1</th>\n",
       "      <td>Film &amp; Video</td>\n",
       "      <td>United States</td>\n",
       "      <td>8.243019</td>\n",
       "      <td>1.098612</td>\n",
       "      <td>29.0</td>\n",
       "      <td>2012</td>\n",
       "      <td>6</td>\n",
       "      <td>5</td>\n",
       "    </tr>\n",
       "  </tbody>\n",
       "</table>\n",
       "</div>"
      ],
      "text/plain": [
       "       Category        Country  log_Goal  log_Backers  ProjectDuration   \n",
       "0        Design      Australia  9.804054     4.234107             27.0  \\\n",
       "1  Film & Video  United States  8.243019     1.098612             29.0   \n",
       "\n",
       "   LaunchYear  LaunchMonth  DayOfWeek  \n",
       "0        2014            8          2  \n",
       "1        2012            6          5  "
      ]
     },
     "execution_count": 198,
     "metadata": {},
     "output_type": "execute_result"
    }
   ],
   "source": [
    "# df_X_data_columns_model = ['Category', 'Country', 'log_Backers', 'ProjectDuration', 'LaunchYear', 'LaunchMonth', 'DayOfWeek', 'PercentageFunded'] # acc 99 for both\n",
    "# df_X_data_columns_model = ['Category', 'Country', 'log_Goal', 'LaunchYear', 'LaunchMonth', 'DayOfWeek'] # acc 67\n",
    "df_X_data_columns_model= ['Category', 'Country', 'log_Goal', 'log_Backers', 'ProjectDuration', 'LaunchYear', 'LaunchMonth', 'DayOfWeek'] # 94\n",
    "\n",
    "X_data_model = X_data[df_X_data_columns_model]\n",
    "X_data_model.head(2)"
   ]
  },
  {
   "cell_type": "markdown",
   "metadata": {},
   "source": [
    "## One-hot Encoding categorical features"
   ]
  },
  {
   "cell_type": "code",
   "execution_count": 199,
   "metadata": {},
   "outputs": [],
   "source": [
    "# categorical_cols = ['Category', 'Country', 'DayOfWeek', 'LaunchMonth', 'LaunchYear']\n",
    "categorical_cols = ['Category', 'Country', 'DayOfWeek', 'LaunchMonth', 'LaunchYear']"
   ]
  },
  {
   "cell_type": "code",
   "execution_count": 200,
   "metadata": {},
   "outputs": [],
   "source": [
    "# Create column transformer\n",
    "ct = ColumnTransformer(\n",
    "    transformers=[\n",
    "        ('encoder', OneHotEncoder(handle_unknown='ignore', sparse_output=False), categorical_cols)\n",
    "    ],\n",
    "    remainder='passthrough' #keep other columns as they are\n",
    ")"
   ]
  },
  {
   "cell_type": "code",
   "execution_count": 201,
   "metadata": {},
   "outputs": [],
   "source": [
    "# Apply the one-hot encoding\n",
    "encoded_data = ct.fit_transform(X_data_model)"
   ]
  },
  {
   "cell_type": "code",
   "execution_count": 202,
   "metadata": {},
   "outputs": [],
   "source": [
    "#Convert back to DataFrame\n",
    "encoded_df = pd.DataFrame(encoded_data, columns=ct.get_feature_names_out())"
   ]
  },
  {
   "cell_type": "code",
   "execution_count": 203,
   "metadata": {},
   "outputs": [
    {
     "name": "stdout",
     "output_type": "stream",
     "text": [
      "Original DataFrame shape: (265169, 8)\n",
      "Encoded DataFrame shape: (265169, 68)\n"
     ]
    }
   ],
   "source": [
    "#Verification: Check the shape of the DataFrame\n",
    "print(\"Original DataFrame shape:\", X_data_model.shape)\n",
    "print(\"Encoded DataFrame shape:\", encoded_df.shape)"
   ]
  },
  {
   "cell_type": "code",
   "execution_count": 206,
   "metadata": {},
   "outputs": [],
   "source": [
    "def get_encoded_data_frame_for_x(data, categorical_cols):\n",
    "    # sddsad\n",
    "    data['PercentageFunded'] = data.apply(calculate_percentage_funded, axis=1)\n",
    "    data['BackersPerDollar'] = data.apply(calculate_backers_per_dollar, axis=1)\n",
    "    data['State_num'] = data['State'].map({'Successful': 1, 'Failed': 0}) # Adding state_num again for statistics\n",
    "    df_x_data_columns_model = ['Category', 'Country', 'log_Goal', 'log_Backers', 'ProjectDuration', 'LaunchYear', 'LaunchMonth', 'DayOfWeek']\n",
    "    x_data_model = data[df_x_data_columns_model]\n",
    "    # Apply the one-hot encoding\n",
    "    _ct = ColumnTransformer(\n",
    "    transformers=[\n",
    "        ('encoder', OneHotEncoder(handle_unknown='ignore', sparse_output=False), categorical_cols)\n",
    "    ],\n",
    "    remainder='passthrough' #keep other columns as they are\n",
    ")\n",
    "    _encoded_data = _ct.fit_transform(x_data_model)\n",
    "    return pd.DataFrame(_encoded_data, columns=ct.get_feature_names_out())\n"
   ]
  },
  {
   "cell_type": "code",
   "execution_count": 207,
   "metadata": {},
   "outputs": [],
   "source": [
    "train_encoded_df = get_encoded_data_frame_for_x(X_data1, categorical_cols)\n",
    "test_encoded_df = get_encoded_data_frame_for_x(X_data2, categorical_cols)"
   ]
  },
  {
   "cell_type": "code",
   "execution_count": 208,
   "metadata": {},
   "outputs": [
    {
     "data": {
      "text/html": [
       "<div>\n",
       "<style scoped>\n",
       "    .dataframe tbody tr th:only-of-type {\n",
       "        vertical-align: middle;\n",
       "    }\n",
       "\n",
       "    .dataframe tbody tr th {\n",
       "        vertical-align: top;\n",
       "    }\n",
       "\n",
       "    .dataframe thead th {\n",
       "        text-align: right;\n",
       "    }\n",
       "</style>\n",
       "<table border=\"1\" class=\"dataframe\">\n",
       "  <thead>\n",
       "    <tr style=\"text-align: right;\">\n",
       "      <th></th>\n",
       "      <th>encoder__Category_Art</th>\n",
       "      <th>encoder__Category_Comics</th>\n",
       "      <th>encoder__Category_Crafts</th>\n",
       "      <th>encoder__Category_Dance</th>\n",
       "      <th>encoder__Category_Design</th>\n",
       "      <th>encoder__Category_Fashion</th>\n",
       "      <th>encoder__Category_Film &amp; Video</th>\n",
       "      <th>encoder__Category_Food</th>\n",
       "      <th>encoder__Category_Games</th>\n",
       "      <th>encoder__Category_Journalism</th>\n",
       "      <th>...</th>\n",
       "      <th>encoder__LaunchYear_2011</th>\n",
       "      <th>encoder__LaunchYear_2012</th>\n",
       "      <th>encoder__LaunchYear_2013</th>\n",
       "      <th>encoder__LaunchYear_2014</th>\n",
       "      <th>encoder__LaunchYear_2015</th>\n",
       "      <th>encoder__LaunchYear_2016</th>\n",
       "      <th>encoder__LaunchYear_2017</th>\n",
       "      <th>remainder__log_Goal</th>\n",
       "      <th>remainder__log_Backers</th>\n",
       "      <th>remainder__ProjectDuration</th>\n",
       "    </tr>\n",
       "  </thead>\n",
       "  <tbody>\n",
       "    <tr>\n",
       "      <th>0</th>\n",
       "      <td>0.0</td>\n",
       "      <td>0.0</td>\n",
       "      <td>1.0</td>\n",
       "      <td>0.0</td>\n",
       "      <td>0.0</td>\n",
       "      <td>0.0</td>\n",
       "      <td>0.0</td>\n",
       "      <td>0.0</td>\n",
       "      <td>0.0</td>\n",
       "      <td>0.0</td>\n",
       "      <td>...</td>\n",
       "      <td>0.0</td>\n",
       "      <td>0.0</td>\n",
       "      <td>0.0</td>\n",
       "      <td>0.0</td>\n",
       "      <td>0.0</td>\n",
       "      <td>0.0</td>\n",
       "      <td>0.0</td>\n",
       "      <td>7.601402</td>\n",
       "      <td>2.197225</td>\n",
       "      <td>89.0</td>\n",
       "    </tr>\n",
       "    <tr>\n",
       "      <th>1</th>\n",
       "      <td>0.0</td>\n",
       "      <td>0.0</td>\n",
       "      <td>0.0</td>\n",
       "      <td>0.0</td>\n",
       "      <td>0.0</td>\n",
       "      <td>0.0</td>\n",
       "      <td>0.0</td>\n",
       "      <td>0.0</td>\n",
       "      <td>0.0</td>\n",
       "      <td>0.0</td>\n",
       "      <td>...</td>\n",
       "      <td>1.0</td>\n",
       "      <td>0.0</td>\n",
       "      <td>0.0</td>\n",
       "      <td>0.0</td>\n",
       "      <td>0.0</td>\n",
       "      <td>0.0</td>\n",
       "      <td>0.0</td>\n",
       "      <td>7.313887</td>\n",
       "      <td>3.135494</td>\n",
       "      <td>34.0</td>\n",
       "    </tr>\n",
       "  </tbody>\n",
       "</table>\n",
       "<p>2 rows × 68 columns</p>\n",
       "</div>"
      ],
      "text/plain": [
       "   encoder__Category_Art  encoder__Category_Comics  encoder__Category_Crafts   \n",
       "0                    0.0                       0.0                       1.0  \\\n",
       "1                    0.0                       0.0                       0.0   \n",
       "\n",
       "   encoder__Category_Dance  encoder__Category_Design   \n",
       "0                      0.0                       0.0  \\\n",
       "1                      0.0                       0.0   \n",
       "\n",
       "   encoder__Category_Fashion  encoder__Category_Film & Video   \n",
       "0                        0.0                             0.0  \\\n",
       "1                        0.0                             0.0   \n",
       "\n",
       "   encoder__Category_Food  encoder__Category_Games   \n",
       "0                     0.0                      0.0  \\\n",
       "1                     0.0                      0.0   \n",
       "\n",
       "   encoder__Category_Journalism  ...  encoder__LaunchYear_2011   \n",
       "0                           0.0  ...                       0.0  \\\n",
       "1                           0.0  ...                       1.0   \n",
       "\n",
       "   encoder__LaunchYear_2012  encoder__LaunchYear_2013   \n",
       "0                       0.0                       0.0  \\\n",
       "1                       0.0                       0.0   \n",
       "\n",
       "   encoder__LaunchYear_2014  encoder__LaunchYear_2015   \n",
       "0                       0.0                       0.0  \\\n",
       "1                       0.0                       0.0   \n",
       "\n",
       "   encoder__LaunchYear_2016  encoder__LaunchYear_2017  remainder__log_Goal   \n",
       "0                       0.0                       0.0             7.601402  \\\n",
       "1                       0.0                       0.0             7.313887   \n",
       "\n",
       "   remainder__log_Backers  remainder__ProjectDuration  \n",
       "0                2.197225                        89.0  \n",
       "1                3.135494                        34.0  \n",
       "\n",
       "[2 rows x 68 columns]"
      ]
     },
     "execution_count": 208,
     "metadata": {},
     "output_type": "execute_result"
    }
   ],
   "source": [
    "test_encoded_df.head(2)"
   ]
  },
  {
   "cell_type": "code",
   "execution_count": 209,
   "metadata": {},
   "outputs": [
    {
     "data": {
      "text/plain": [
       "(66293,)"
      ]
     },
     "execution_count": 209,
     "metadata": {},
     "output_type": "execute_result"
    }
   ],
   "source": [
    "y_test.shape"
   ]
  },
  {
   "cell_type": "code",
   "execution_count": 210,
   "metadata": {},
   "outputs": [
    {
     "data": {
      "text/plain": [
       "(66293, 68)"
      ]
     },
     "execution_count": 210,
     "metadata": {},
     "output_type": "execute_result"
    }
   ],
   "source": [
    "test_encoded_df.shape"
   ]
  },
  {
   "cell_type": "markdown",
   "metadata": {},
   "source": [
    "## Baselone model - Dummy Classifier"
   ]
  },
  {
   "cell_type": "code",
   "execution_count": 211,
   "metadata": {},
   "outputs": [
    {
     "name": "stdout",
     "output_type": "stream",
     "text": [
      "Baseline Accuracy: 0.5961866260389483\n"
     ]
    }
   ],
   "source": [
    "from sklearn.dummy import DummyClassifier\n",
    "\n",
    "baseline_model = DummyClassifier(strategy=\"most_frequent\")\n",
    "baseline_model.fit(train_encoded_df, y_train)\n",
    "baseline_accuracy = baseline_model.score(test_encoded_df, y_test)\n",
    "print(f\"Baseline Accuracy: {baseline_accuracy}\")"
   ]
  },
  {
   "cell_type": "markdown",
   "metadata": {},
   "source": [
    "## Random Forest"
   ]
  },
  {
   "cell_type": "code",
   "execution_count": 212,
   "metadata": {},
   "outputs": [
    {
     "data": {
      "text/html": [
       "<style>#sk-container-id-6 {color: black;background-color: white;}#sk-container-id-6 pre{padding: 0;}#sk-container-id-6 div.sk-toggleable {background-color: white;}#sk-container-id-6 label.sk-toggleable__label {cursor: pointer;display: block;width: 100%;margin-bottom: 0;padding: 0.3em;box-sizing: border-box;text-align: center;}#sk-container-id-6 label.sk-toggleable__label-arrow:before {content: \"▸\";float: left;margin-right: 0.25em;color: #696969;}#sk-container-id-6 label.sk-toggleable__label-arrow:hover:before {color: black;}#sk-container-id-6 div.sk-estimator:hover label.sk-toggleable__label-arrow:before {color: black;}#sk-container-id-6 div.sk-toggleable__content {max-height: 0;max-width: 0;overflow: hidden;text-align: left;background-color: #f0f8ff;}#sk-container-id-6 div.sk-toggleable__content pre {margin: 0.2em;color: black;border-radius: 0.25em;background-color: #f0f8ff;}#sk-container-id-6 input.sk-toggleable__control:checked~div.sk-toggleable__content {max-height: 200px;max-width: 100%;overflow: auto;}#sk-container-id-6 input.sk-toggleable__control:checked~label.sk-toggleable__label-arrow:before {content: \"▾\";}#sk-container-id-6 div.sk-estimator input.sk-toggleable__control:checked~label.sk-toggleable__label {background-color: #d4ebff;}#sk-container-id-6 div.sk-label input.sk-toggleable__control:checked~label.sk-toggleable__label {background-color: #d4ebff;}#sk-container-id-6 input.sk-hidden--visually {border: 0;clip: rect(1px 1px 1px 1px);clip: rect(1px, 1px, 1px, 1px);height: 1px;margin: -1px;overflow: hidden;padding: 0;position: absolute;width: 1px;}#sk-container-id-6 div.sk-estimator {font-family: monospace;background-color: #f0f8ff;border: 1px dotted black;border-radius: 0.25em;box-sizing: border-box;margin-bottom: 0.5em;}#sk-container-id-6 div.sk-estimator:hover {background-color: #d4ebff;}#sk-container-id-6 div.sk-parallel-item::after {content: \"\";width: 100%;border-bottom: 1px solid gray;flex-grow: 1;}#sk-container-id-6 div.sk-label:hover label.sk-toggleable__label {background-color: #d4ebff;}#sk-container-id-6 div.sk-serial::before {content: \"\";position: absolute;border-left: 1px solid gray;box-sizing: border-box;top: 0;bottom: 0;left: 50%;z-index: 0;}#sk-container-id-6 div.sk-serial {display: flex;flex-direction: column;align-items: center;background-color: white;padding-right: 0.2em;padding-left: 0.2em;position: relative;}#sk-container-id-6 div.sk-item {position: relative;z-index: 1;}#sk-container-id-6 div.sk-parallel {display: flex;align-items: stretch;justify-content: center;background-color: white;position: relative;}#sk-container-id-6 div.sk-item::before, #sk-container-id-6 div.sk-parallel-item::before {content: \"\";position: absolute;border-left: 1px solid gray;box-sizing: border-box;top: 0;bottom: 0;left: 50%;z-index: -1;}#sk-container-id-6 div.sk-parallel-item {display: flex;flex-direction: column;z-index: 1;position: relative;background-color: white;}#sk-container-id-6 div.sk-parallel-item:first-child::after {align-self: flex-end;width: 50%;}#sk-container-id-6 div.sk-parallel-item:last-child::after {align-self: flex-start;width: 50%;}#sk-container-id-6 div.sk-parallel-item:only-child::after {width: 0;}#sk-container-id-6 div.sk-dashed-wrapped {border: 1px dashed gray;margin: 0 0.4em 0.5em 0.4em;box-sizing: border-box;padding-bottom: 0.4em;background-color: white;}#sk-container-id-6 div.sk-label label {font-family: monospace;font-weight: bold;display: inline-block;line-height: 1.2em;}#sk-container-id-6 div.sk-label-container {text-align: center;}#sk-container-id-6 div.sk-container {/* jupyter's `normalize.less` sets `[hidden] { display: none; }` but bootstrap.min.css set `[hidden] { display: none !important; }` so we also need the `!important` here to be able to override the default hidden behavior on the sphinx rendered scikit-learn.org. See: https://github.com/scikit-learn/scikit-learn/issues/21755 */display: inline-block !important;position: relative;}#sk-container-id-6 div.sk-text-repr-fallback {display: none;}</style><div id=\"sk-container-id-6\" class=\"sk-top-container\"><div class=\"sk-text-repr-fallback\"><pre>RandomForestClassifier(max_leaf_nodes=16, n_estimators=500, n_jobs=-1)</pre><b>In a Jupyter environment, please rerun this cell to show the HTML representation or trust the notebook. <br />On GitHub, the HTML representation is unable to render, please try loading this page with nbviewer.org.</b></div><div class=\"sk-container\" hidden><div class=\"sk-item\"><div class=\"sk-estimator sk-toggleable\"><input class=\"sk-toggleable__control sk-hidden--visually\" id=\"sk-estimator-id-6\" type=\"checkbox\" checked><label for=\"sk-estimator-id-6\" class=\"sk-toggleable__label sk-toggleable__label-arrow\">RandomForestClassifier</label><div class=\"sk-toggleable__content\"><pre>RandomForestClassifier(max_leaf_nodes=16, n_estimators=500, n_jobs=-1)</pre></div></div></div></div></div>"
      ],
      "text/plain": [
       "RandomForestClassifier(max_leaf_nodes=16, n_estimators=500, n_jobs=-1)"
      ]
     },
     "execution_count": 212,
     "metadata": {},
     "output_type": "execute_result"
    }
   ],
   "source": [
    "rnd_clf = RandomForestClassifier(n_estimators=500, max_leaf_nodes=16, n_jobs=-1)\n",
    "rnd_clf.fit(train_encoded_df, y_train)"
   ]
  },
  {
   "cell_type": "code",
   "execution_count": 213,
   "metadata": {},
   "outputs": [
    {
     "data": {
      "text/plain": [
       "array([0, 1, 0, ..., 0, 0, 1], dtype=int64)"
      ]
     },
     "execution_count": 213,
     "metadata": {},
     "output_type": "execute_result"
    }
   ],
   "source": [
    "y_pred_rf = rnd_clf.predict(test_encoded_df)\n",
    "y_pred_rf"
   ]
  },
  {
   "cell_type": "code",
   "execution_count": 214,
   "metadata": {},
   "outputs": [
    {
     "data": {
      "text/plain": [
       "array([0.1938174 , 0.67194157, 0.18694838, ..., 0.22924115, 0.18516733,\n",
       "       0.58706573])"
      ]
     },
     "execution_count": 214,
     "metadata": {},
     "output_type": "execute_result"
    }
   ],
   "source": [
    "y_prob_fr = rnd_clf.predict_proba(test_encoded_df)[:,1]\n",
    "y_prob_fr"
   ]
  },
  {
   "cell_type": "code",
   "execution_count": 215,
   "metadata": {},
   "outputs": [
    {
     "name": "stdout",
     "output_type": "stream",
     "text": [
      "Test ROC AUC  Score: 0.9493755526245548\n"
     ]
    }
   ],
   "source": [
    "print(f'Test ROC AUC  Score: {roc_auc_score(y_test, y_prob_fr)}')"
   ]
  },
  {
   "cell_type": "code",
   "execution_count": 216,
   "metadata": {},
   "outputs": [
    {
     "name": "stdout",
     "output_type": "stream",
     "text": [
      "Test ROC AUC  Score: 0.9495046818247115\n"
     ]
    }
   ],
   "source": [
    "y_pred_train = rnd_clf.predict(train_encoded_df)\n",
    "y_prob_train = rnd_clf.predict_proba(train_encoded_df)[:,1]\n",
    "print(f'Test ROC AUC  Score: {roc_auc_score(y_train, y_prob_train)}')"
   ]
  },
  {
   "cell_type": "code",
   "execution_count": null,
   "metadata": {},
   "outputs": [],
   "source": []
  },
  {
   "cell_type": "code",
   "execution_count": null,
   "metadata": {},
   "outputs": [],
   "source": []
  }
 ],
 "metadata": {
  "kernelspec": {
   "display_name": ".venv",
   "language": "python",
   "name": "python3"
  },
  "language_info": {
   "codemirror_mode": {
    "name": "ipython",
    "version": 3
   },
   "file_extension": ".py",
   "mimetype": "text/x-python",
   "name": "python",
   "nbconvert_exporter": "python",
   "pygments_lexer": "ipython3",
   "version": "3.11.3"
  }
 },
 "nbformat": 4,
 "nbformat_minor": 2
}
